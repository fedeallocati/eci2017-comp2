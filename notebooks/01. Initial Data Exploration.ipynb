{
 "cells": [
  {
   "cell_type": "code",
   "execution_count": 1,
   "metadata": {
    "collapsed": false
   },
   "outputs": [
    {
     "name": "stderr",
     "output_type": "stream",
     "text": [
      "/usr/local/lib/python2.7/site-packages/matplotlib/rcsetup.py:589: UserWarning: svg.image_noscale is deprecated. Set image.interpolation to 'none' instead.\n",
      "  warnings.warn(\"svg.image_noscale is deprecated. Set \"\n"
     ]
    }
   ],
   "source": [
    "from os import path\n",
    "\n",
    "import matplotlib.pyplot as plt\n",
    "import pandas as pd\n",
    "import numpy as np\n",
    "\n",
    "DATA_FOLDER = \"../data/original/\""
   ]
  },
  {
   "cell_type": "code",
   "execution_count": 3,
   "metadata": {
    "collapsed": false
   },
   "outputs": [],
   "source": [
    "vistas_df = train = pd.read_csv(path.join(DATA_FOLDER, \"vistas.csv\"))\n",
    "contactos_df = train = pd.read_csv(path.join(DATA_FOLDER, \"contactos.csv\"))\n",
    "avisos_df = train = pd.read_csv(path.join(DATA_FOLDER, \"avisos.csv\"))\n",
    "amenities_df = train = pd.read_csv(path.join(DATA_FOLDER, \"amenities.csv\"))\n",
    "avisos_and_amenities_df = pd.merge(avisos_df , amenities_df)"
   ]
  },
  {
   "cell_type": "code",
   "execution_count": 3,
   "metadata": {
    "collapsed": false
   },
   "outputs": [
    {
     "data": {
      "text/html": [
       "<div>\n",
       "<style>\n",
       "    .dataframe thead tr:only-child th {\n",
       "        text-align: right;\n",
       "    }\n",
       "\n",
       "    .dataframe thead th {\n",
       "        text-align: left;\n",
       "    }\n",
       "\n",
       "    .dataframe tbody tr th {\n",
       "        vertical-align: top;\n",
       "    }\n",
       "</style>\n",
       "<table border=\"1\" class=\"dataframe\">\n",
       "  <thead>\n",
       "    <tr style=\"text-align: right;\">\n",
       "      <th></th>\n",
       "      <th>idusuario</th>\n",
       "      <th>idaviso</th>\n",
       "      <th>fecha</th>\n",
       "    </tr>\n",
       "  </thead>\n",
       "  <tbody>\n",
       "    <tr>\n",
       "      <th>0</th>\n",
       "      <td>106137</td>\n",
       "      <td>161479</td>\n",
       "      <td>2014-05-29 14:29:42.572</td>\n",
       "    </tr>\n",
       "    <tr>\n",
       "      <th>1</th>\n",
       "      <td>106137</td>\n",
       "      <td>161479</td>\n",
       "      <td>2014-05-29 14:55:26.856</td>\n",
       "    </tr>\n",
       "    <tr>\n",
       "      <th>2</th>\n",
       "      <td>106137</td>\n",
       "      <td>161479</td>\n",
       "      <td>2014-05-29 14:55:27.565</td>\n",
       "    </tr>\n",
       "    <tr>\n",
       "      <th>3</th>\n",
       "      <td>45846</td>\n",
       "      <td>161479</td>\n",
       "      <td>2014-05-06 20:00:16.651</td>\n",
       "    </tr>\n",
       "    <tr>\n",
       "      <th>4</th>\n",
       "      <td>28014</td>\n",
       "      <td>161479</td>\n",
       "      <td>2014-05-31 11:01:24.690</td>\n",
       "    </tr>\n",
       "  </tbody>\n",
       "</table>\n",
       "</div>"
      ],
      "text/plain": [
       "   idusuario  idaviso                    fecha\n",
       "0     106137   161479  2014-05-29 14:29:42.572\n",
       "1     106137   161479  2014-05-29 14:55:26.856\n",
       "2     106137   161479  2014-05-29 14:55:27.565\n",
       "3      45846   161479  2014-05-06 20:00:16.651\n",
       "4      28014   161479  2014-05-31 11:01:24.690"
      ]
     },
     "execution_count": 3,
     "metadata": {},
     "output_type": "execute_result"
    }
   ],
   "source": [
    "vistas_df.head()"
   ]
  },
  {
   "cell_type": "code",
   "execution_count": 4,
   "metadata": {
    "collapsed": false
   },
   "outputs": [
    {
     "data": {
      "text/html": [
       "<div>\n",
       "<style>\n",
       "    .dataframe thead tr:only-child th {\n",
       "        text-align: right;\n",
       "    }\n",
       "\n",
       "    .dataframe thead th {\n",
       "        text-align: left;\n",
       "    }\n",
       "\n",
       "    .dataframe tbody tr th {\n",
       "        vertical-align: top;\n",
       "    }\n",
       "</style>\n",
       "<table border=\"1\" class=\"dataframe\">\n",
       "  <thead>\n",
       "    <tr style=\"text-align: right;\">\n",
       "      <th></th>\n",
       "      <th>idusuario</th>\n",
       "      <th>idaviso</th>\n",
       "      <th>fecha</th>\n",
       "    </tr>\n",
       "  </thead>\n",
       "  <tbody>\n",
       "    <tr>\n",
       "      <th>0</th>\n",
       "      <td>3646</td>\n",
       "      <td>223982</td>\n",
       "      <td>2014-05-04 09:10:07</td>\n",
       "    </tr>\n",
       "    <tr>\n",
       "      <th>1</th>\n",
       "      <td>3646</td>\n",
       "      <td>191962</td>\n",
       "      <td>2014-05-09 10:31:53</td>\n",
       "    </tr>\n",
       "    <tr>\n",
       "      <th>2</th>\n",
       "      <td>3646</td>\n",
       "      <td>143212</td>\n",
       "      <td>2014-05-09 10:44:08</td>\n",
       "    </tr>\n",
       "    <tr>\n",
       "      <th>3</th>\n",
       "      <td>3646</td>\n",
       "      <td>119947</td>\n",
       "      <td>2014-05-16 10:24:22</td>\n",
       "    </tr>\n",
       "    <tr>\n",
       "      <th>4</th>\n",
       "      <td>3646</td>\n",
       "      <td>83736</td>\n",
       "      <td>2014-05-16 15:30:19</td>\n",
       "    </tr>\n",
       "  </tbody>\n",
       "</table>\n",
       "</div>"
      ],
      "text/plain": [
       "   idusuario  idaviso                fecha\n",
       "0       3646   223982  2014-05-04 09:10:07\n",
       "1       3646   191962  2014-05-09 10:31:53\n",
       "2       3646   143212  2014-05-09 10:44:08\n",
       "3       3646   119947  2014-05-16 10:24:22\n",
       "4       3646    83736  2014-05-16 15:30:19"
      ]
     },
     "execution_count": 4,
     "metadata": {},
     "output_type": "execute_result"
    }
   ],
   "source": [
    "contactos_df.head()"
   ]
  },
  {
   "cell_type": "code",
   "execution_count": 6,
   "metadata": {
    "collapsed": false
   },
   "outputs": [
    {
     "data": {
      "text/html": [
       "<div>\n",
       "<table border=\"1\" class=\"dataframe\">\n",
       "  <thead>\n",
       "    <tr style=\"text-align: right;\">\n",
       "      <th></th>\n",
       "      <th>idciudad</th>\n",
       "      <th>idcategoriatipodepropiedad</th>\n",
       "      <th>idtipodepropiedad</th>\n",
       "      <th>idtipodeoperacion</th>\n",
       "      <th>zonacoins</th>\n",
       "      <th>superficie</th>\n",
       "      <th>garages</th>\n",
       "      <th>banos</th>\n",
       "      <th>habitaciones</th>\n",
       "      <th>idaviso</th>\n",
       "    </tr>\n",
       "  </thead>\n",
       "  <tbody>\n",
       "    <tr>\n",
       "      <th>0</th>\n",
       "      <td>0</td>\n",
       "      <td>1</td>\n",
       "      <td>2</td>\n",
       "      <td>1</td>\n",
       "      <td>54161.7</td>\n",
       "      <td>34.4</td>\n",
       "      <td>1</td>\n",
       "      <td>2</td>\n",
       "      <td>2</td>\n",
       "      <td>556135</td>\n",
       "    </tr>\n",
       "  </tbody>\n",
       "</table>\n",
       "</div>"
      ],
      "text/plain": [
       "   idciudad  idcategoriatipodepropiedad  idtipodepropiedad  idtipodeoperacion  \\\n",
       "0         0                           1                  2                  1   \n",
       "\n",
       "   zonacoins  superficie  garages  banos  habitaciones  idaviso  \n",
       "0    54161.7        34.4        1      2             2   556135  "
      ]
     },
     "execution_count": 6,
     "metadata": {},
     "output_type": "execute_result"
    }
   ],
   "source": [
    "avisos_df.head()\n",
    "avisos_df[avisos_df['idaviso'] == 556135].head(5)"
   ]
  },
  {
   "cell_type": "code",
   "execution_count": 7,
   "metadata": {
    "collapsed": false
   },
   "outputs": [
    {
     "data": {
      "text/html": [
       "<div>\n",
       "<table border=\"1\" class=\"dataframe\">\n",
       "  <thead>\n",
       "    <tr style=\"text-align: right;\">\n",
       "      <th></th>\n",
       "      <th>parrilla</th>\n",
       "      <th>pileta</th>\n",
       "      <th>camara_seguridad</th>\n",
       "      <th>salon_de_fiestas</th>\n",
       "      <th>expensas</th>\n",
       "      <th>medio_bano</th>\n",
       "      <th>idaviso</th>\n",
       "    </tr>\n",
       "  </thead>\n",
       "  <tbody>\n",
       "    <tr>\n",
       "      <th>33528</th>\n",
       "      <td>0</td>\n",
       "      <td>0</td>\n",
       "      <td>0</td>\n",
       "      <td>0</td>\n",
       "      <td>NaN</td>\n",
       "      <td>1</td>\n",
       "      <td>556135</td>\n",
       "    </tr>\n",
       "  </tbody>\n",
       "</table>\n",
       "</div>"
      ],
      "text/plain": [
       "       parrilla  pileta  camara_seguridad  salon_de_fiestas  expensas  \\\n",
       "33528         0       0                 0                 0       NaN   \n",
       "\n",
       "       medio_bano  idaviso  \n",
       "33528           1   556135  "
      ]
     },
     "execution_count": 7,
     "metadata": {},
     "output_type": "execute_result"
    }
   ],
   "source": [
    "amenities_df.head()\n",
    "amenities_df[amenities_df['idaviso'] == 556135].head(5)"
   ]
  },
  {
   "cell_type": "code",
   "execution_count": 8,
   "metadata": {
    "collapsed": false
   },
   "outputs": [
    {
     "data": {
      "text/html": [
       "<div>\n",
       "<table border=\"1\" class=\"dataframe\">\n",
       "  <thead>\n",
       "    <tr style=\"text-align: right;\">\n",
       "      <th></th>\n",
       "      <th>idciudad</th>\n",
       "      <th>idcategoriatipodepropiedad</th>\n",
       "      <th>idtipodepropiedad</th>\n",
       "      <th>idtipodeoperacion</th>\n",
       "      <th>zonacoins</th>\n",
       "      <th>superficie</th>\n",
       "      <th>garages</th>\n",
       "      <th>banos</th>\n",
       "      <th>habitaciones</th>\n",
       "      <th>idaviso</th>\n",
       "      <th>parrilla</th>\n",
       "      <th>pileta</th>\n",
       "      <th>camara_seguridad</th>\n",
       "      <th>salon_de_fiestas</th>\n",
       "      <th>expensas</th>\n",
       "      <th>medio_bano</th>\n",
       "    </tr>\n",
       "  </thead>\n",
       "  <tbody>\n",
       "    <tr>\n",
       "      <th>0</th>\n",
       "      <td>0</td>\n",
       "      <td>1</td>\n",
       "      <td>2</td>\n",
       "      <td>1</td>\n",
       "      <td>54161.7</td>\n",
       "      <td>34.4</td>\n",
       "      <td>1</td>\n",
       "      <td>2</td>\n",
       "      <td>2</td>\n",
       "      <td>556135</td>\n",
       "      <td>0</td>\n",
       "      <td>0</td>\n",
       "      <td>0</td>\n",
       "      <td>0</td>\n",
       "      <td>NaN</td>\n",
       "      <td>1</td>\n",
       "    </tr>\n",
       "    <tr>\n",
       "      <th>1</th>\n",
       "      <td>1</td>\n",
       "      <td>1</td>\n",
       "      <td>1003</td>\n",
       "      <td>1</td>\n",
       "      <td>42876.0</td>\n",
       "      <td>394.6</td>\n",
       "      <td>0</td>\n",
       "      <td>0</td>\n",
       "      <td>0</td>\n",
       "      <td>816656</td>\n",
       "      <td>0</td>\n",
       "      <td>0</td>\n",
       "      <td>0</td>\n",
       "      <td>0</td>\n",
       "      <td>NaN</td>\n",
       "      <td>0</td>\n",
       "    </tr>\n",
       "    <tr>\n",
       "      <th>2</th>\n",
       "      <td>1</td>\n",
       "      <td>2</td>\n",
       "      <td>1005</td>\n",
       "      <td>2</td>\n",
       "      <td>476.0</td>\n",
       "      <td>52.8</td>\n",
       "      <td>0</td>\n",
       "      <td>2</td>\n",
       "      <td>0</td>\n",
       "      <td>94326</td>\n",
       "      <td>0</td>\n",
       "      <td>0</td>\n",
       "      <td>0</td>\n",
       "      <td>0</td>\n",
       "      <td>12.3</td>\n",
       "      <td>0</td>\n",
       "    </tr>\n",
       "    <tr>\n",
       "      <th>3</th>\n",
       "      <td>1</td>\n",
       "      <td>1</td>\n",
       "      <td>1</td>\n",
       "      <td>1</td>\n",
       "      <td>177161.7</td>\n",
       "      <td>52.8</td>\n",
       "      <td>2</td>\n",
       "      <td>3</td>\n",
       "      <td>4</td>\n",
       "      <td>787720</td>\n",
       "      <td>0</td>\n",
       "      <td>0</td>\n",
       "      <td>0</td>\n",
       "      <td>0</td>\n",
       "      <td>NaN</td>\n",
       "      <td>1</td>\n",
       "    </tr>\n",
       "    <tr>\n",
       "      <th>4</th>\n",
       "      <td>1</td>\n",
       "      <td>1</td>\n",
       "      <td>2</td>\n",
       "      <td>1</td>\n",
       "      <td>61447.4</td>\n",
       "      <td>44.2</td>\n",
       "      <td>2</td>\n",
       "      <td>2</td>\n",
       "      <td>2</td>\n",
       "      <td>400921</td>\n",
       "      <td>0</td>\n",
       "      <td>0</td>\n",
       "      <td>0</td>\n",
       "      <td>0</td>\n",
       "      <td>15.5</td>\n",
       "      <td>0</td>\n",
       "    </tr>\n",
       "  </tbody>\n",
       "</table>\n",
       "</div>"
      ],
      "text/plain": [
       "   idciudad  idcategoriatipodepropiedad  idtipodepropiedad  idtipodeoperacion  \\\n",
       "0         0                           1                  2                  1   \n",
       "1         1                           1               1003                  1   \n",
       "2         1                           2               1005                  2   \n",
       "3         1                           1                  1                  1   \n",
       "4         1                           1                  2                  1   \n",
       "\n",
       "   zonacoins  superficie  garages  banos  habitaciones  idaviso  parrilla  \\\n",
       "0    54161.7        34.4        1      2             2   556135         0   \n",
       "1    42876.0       394.6        0      0             0   816656         0   \n",
       "2      476.0        52.8        0      2             0    94326         0   \n",
       "3   177161.7        52.8        2      3             4   787720         0   \n",
       "4    61447.4        44.2        2      2             2   400921         0   \n",
       "\n",
       "   pileta  camara_seguridad  salon_de_fiestas  expensas  medio_bano  \n",
       "0       0                 0                 0       NaN           1  \n",
       "1       0                 0                 0       NaN           0  \n",
       "2       0                 0                 0      12.3           0  \n",
       "3       0                 0                 0       NaN           1  \n",
       "4       0                 0                 0      15.5           0  "
      ]
     },
     "execution_count": 8,
     "metadata": {},
     "output_type": "execute_result"
    }
   ],
   "source": [
    "avisos_and_amenities_df.head()\n",
    "avisos_and_amenities_df[avisos_and_amenities_df['idaviso'] == 55]"
   ]
  },
  {
   "cell_type": "code",
   "execution_count": null,
   "metadata": {
    "collapsed": true
   },
   "outputs": [],
   "source": []
  }
 ],
 "metadata": {
  "kernelspec": {
   "display_name": "Python 2",
   "language": "python",
   "name": "python2"
  },
  "language_info": {
   "codemirror_mode": {
    "name": "ipython",
    "version": 2
   },
   "file_extension": ".py",
   "mimetype": "text/x-python",
   "name": "python",
   "nbconvert_exporter": "python",
   "pygments_lexer": "ipython2",
   "version": "2.7.13"
  }
 },
 "nbformat": 4,
 "nbformat_minor": 2
}
